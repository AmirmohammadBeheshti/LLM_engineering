{
 "cells": [
  {
   "cell_type": "code",
   "execution_count": 16,
   "metadata": {},
   "outputs": [],
   "source": [
    "import ollama\n",
    "from IPython.display import Markdown, display, update_display"
   ]
  },
  {
   "cell_type": "code",
   "execution_count": 17,
   "metadata": {},
   "outputs": [],
   "source": [
    "def request_to_model(json_message):\n",
    "    response = ollama.chat(\n",
    "        model=\"deepseek-r1:1.5b\",\n",
    "        messages=json_message,\n",
    "        stream=False\n",
    "    )\n",
    "    return response.message.content"
   ]
  },
  {
   "cell_type": "code",
   "execution_count": 18,
   "metadata": {},
   "outputs": [
    {
     "data": {
      "text/markdown": [
       "<think>\n",
       "Okay, so I need to figure out the sum of 2 multiplied by 2. Hmm, let's see. First, what does \"sum\" mean in math? I think it means adding numbers together. So if someone asks for the sum of something, they're probably asking them to add those things up.\n",
       "\n",
       "Alright, now I have 2 multiplied by 2. That part seems straightforward. Multiplication is just repeated addition, right? So 2 times 2 would be like adding 2 two times. Let me write that down: 2 + 2. Okay, so if I add 2 and 2 together, what do I get?\n",
       "\n",
       "Well, 2 plus 2 equals 4. That makes sense because each 2 is just one more than zero, and when you put them together, they make up the next number after four, which is five in counting. Wait, no, that doesn't sound right. Let me think again. If I have two objects and someone gives me two more, how many do I have in total? Three! Oh, wait a minute, now I'm confused.\n",
       "\n",
       "Hold on, maybe I misapplied the multiplication concept. When you multiply 2 by 2, you're actually adding 2 to itself two times. So that would be like 2 + 2 again, which is 4. But earlier, when I thought about adding objects, I was getting confused because of a different example. Maybe I should stick with the mathematical definitions.\n",
       "\n",
       "Let me double-check what \"sum\" means in this context. The sum of two numbers is their total when you add them together. So if someone says the sum of 2 and 2, it's definitely 4. But earlier, when I was thinking about adding objects, that example might have been leading to a wrong mental image. It's important not to rely solely on real-life examples because they can sometimes confuse mathematical concepts.\n",
       "\n",
       "So, going back to the original problem: Sum of 2 * 2. Multiplication is an operation that results in a product, which is essentially the sum of one number repeated as many times as the value of the other number. So, 2 multiplied by 2 is indeed adding 2 two times: 2 + 2 = 4.\n",
       "\n",
       "Wait, I think I overcomplicated it earlier. Let's try another way to confirm. If I have a grid with 2 rows and 2 columns, how many squares do I have in total? Each row has 2 squares, and there are 2 rows, so that should be 2 times 2, which equals 4.\n",
       "\n",
       "Another thought: In programming or calculator terms, if someone inputs \"2 * 2\", it returns the result of multiplication. So in this context, following mathematical operations is straightforward—just multiply them together to get the sum.\n",
       "\n",
       "I guess I was just mixing up different concepts like objects and numbers earlier, which sometimes cause confusion. But now that I've broken it down step by step, it makes sense. The sum remains consistent: 2 multiplied by 2 equals 4.\n",
       "\n",
       "So, putting it all together, whether through repeated addition or visualizing the grid, both methods lead to the same conclusion: 2 * 2 = 4.\n",
       "</think>\n",
       "\n",
       "The sum of 2 multiplied by 2 is calculated as follows:\n",
       "\n",
       "1. **Multiplication**: \\( 2 \\times 2 = 4 \\)\n",
       "2. **Sum**: The sum of 2 and 2 is also 4.\n",
       "\n",
       "**Answer:** The sum of \\( 2 \\times 2 \\) is \\( 4 \\)."
      ],
      "text/plain": [
       "<IPython.core.display.Markdown object>"
      ]
     },
     "metadata": {},
     "output_type": "display_data"
    },
    {
     "name": "stdout",
     "output_type": "stream",
     "text": [
      "None\n"
     ]
    }
   ],
   "source": [
    "print( display(Markdown(request_to_model([\n",
    "                {\"role\": \"system\", \"content\": 'Resolve Math Problem'},\n",
    "                {\"role\": \"user\", \"content\": 'Sum Of 2 * 2'}\n",
    "        ]))))"
   ]
  }
 ],
 "metadata": {
  "kernelspec": {
   "display_name": "Python 3",
   "language": "python",
   "name": "python3"
  },
  "language_info": {
   "codemirror_mode": {
    "name": "ipython",
    "version": 3
   },
   "file_extension": ".py",
   "mimetype": "text/x-python",
   "name": "python",
   "nbconvert_exporter": "python",
   "pygments_lexer": "ipython3",
   "version": "3.12.9"
  }
 },
 "nbformat": 4,
 "nbformat_minor": 2
}

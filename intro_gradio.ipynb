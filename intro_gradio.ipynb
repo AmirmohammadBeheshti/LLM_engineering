{
 "cells": [
  {
   "cell_type": "code",
   "execution_count": null,
   "metadata": {},
   "outputs": [],
   "source": [
    "import gradio as gr"
   ]
  },
  {
   "cell_type": "code",
   "execution_count": null,
   "metadata": {},
   "outputs": [],
   "source": [
    "def shout(text, selected  = 'Upper'):\n",
    "    print(f\"Shout has been called with input {text}\")\n",
    "    if(selected == 'Upper'):\n",
    "        return text.upper()\n",
    "    else : \n",
    "        return text.lower()\n",
    "\n",
    "shout('Test Message')"
   ]
  },
  {
   "cell_type": "code",
   "execution_count": null,
   "metadata": {},
   "outputs": [],
   "source": []
  },
  {
   "cell_type": "code",
   "execution_count": null,
   "metadata": {},
   "outputs": [],
   "source": [
    "force_dark_mode = \"\"\"\n",
    "function refresh() {\n",
    "    const url = new URL(window.location);\n",
    "    if (url.searchParams.get('__theme') !== 'dark') {\n",
    "        url.searchParams.set('__theme', 'dark');\n",
    "        window.location.href = url.href;\n",
    "    }\n",
    "}\n",
    "\"\"\""
   ]
  },
  {
   "cell_type": "code",
   "execution_count": null,
   "metadata": {},
   "outputs": [],
   "source": [
    "# Adding share=True means that it can be accessed publically\n",
    "# Define this variable and then pass js=force_dark_mode when creating the Interface\n",
    "\n",
    "gr.Interface(fn=shout, inputs=[gr.Textbox(label=\"Your message:\", lines=6)], outputs=[gr.Textbox(label=\"Response:\", lines=9)] , flagging_mode=\"never\" , js=force_dark_mode).launch()"
   ]
  },
  {
   "cell_type": "code",
   "execution_count": null,
   "metadata": {},
   "outputs": [],
   "source": [
    "# Adding share=True means that it can be accessed publically\n",
    "# Define this variable and then pass js=force_dark_mode when creating the Interface\n",
    "\n",
    "gr.Interface(fn=shout, inputs=[gr.Textbox(label=\"Your message:\", lines=6 ) , gr.Dropdown([\"Upper\", \"Lower\"], label=\"Select\", value=\"Upper\")], outputs=[gr.Textbox(label=\"Response:\", lines=12)] , flagging_mode=\"never\" , js=force_dark_mode).launch()"
   ]
  }
 ],
 "metadata": {
  "kernelspec": {
   "display_name": "Python 3",
   "language": "python",
   "name": "python3"
  },
  "language_info": {
   "codemirror_mode": {
    "name": "ipython",
    "version": 3
   },
   "file_extension": ".py",
   "mimetype": "text/x-python",
   "name": "python",
   "nbconvert_exporter": "python",
   "pygments_lexer": "ipython3",
   "version": "3.12.9"
  }
 },
 "nbformat": 4,
 "nbformat_minor": 2
}
